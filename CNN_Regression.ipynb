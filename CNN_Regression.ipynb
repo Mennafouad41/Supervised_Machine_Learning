{
  "nbformat": 4,
  "nbformat_minor": 0,
  "metadata": {
    "colab": {
      "name": "Untitled25.ipynb",
      "provenance": []
    },
    "kernelspec": {
      "name": "python3",
      "display_name": "Python 3"
    },
    "language_info": {
      "name": "python"
    }
  },
  "cells": [
    {
      "cell_type": "markdown",
      "metadata": {
        "id": "wr3uts4kGrpE"
      },
      "source": [
        "# **CNN for Regression**"
      ]
    },
    {
      "cell_type": "markdown",
      "metadata": {
        "id": "b20JdEK4G2mj"
      },
      "source": [
        "**Importing Libraries For CNN_Regression**"
      ]
    },
    {
      "cell_type": "code",
      "metadata": {
        "id": "cTGsIqHlGtVr"
      },
      "source": [
        "import pandas as pd\n",
        "import numpy as np\n"
      ],
      "execution_count": 1,
      "outputs": []
    },
    {
      "cell_type": "markdown",
      "metadata": {
        "id": "Vkp4gl-wHP2q"
      },
      "source": [
        "**Importing the Dataset**"
      ]
    },
    {
      "cell_type": "code",
      "metadata": {
        "colab": {
          "base_uri": "https://localhost:8080/",
          "height": 204
        },
        "id": "YOojOI_nHRis",
        "outputId": "fc2bc716-338f-427c-83af-b4ffb8703fac"
      },
      "source": [
        "# load dataset\n",
        "dataset = pd.read_csv('petrol_consumption.csv')\n",
        "dataset.head()"
      ],
      "execution_count": 14,
      "outputs": [
        {
          "output_type": "execute_result",
          "data": {
            "text/html": [
              "<div>\n",
              "<style scoped>\n",
              "    .dataframe tbody tr th:only-of-type {\n",
              "        vertical-align: middle;\n",
              "    }\n",
              "\n",
              "    .dataframe tbody tr th {\n",
              "        vertical-align: top;\n",
              "    }\n",
              "\n",
              "    .dataframe thead th {\n",
              "        text-align: right;\n",
              "    }\n",
              "</style>\n",
              "<table border=\"1\" class=\"dataframe\">\n",
              "  <thead>\n",
              "    <tr style=\"text-align: right;\">\n",
              "      <th></th>\n",
              "      <th>Petrol_tax</th>\n",
              "      <th>Average_income</th>\n",
              "      <th>Paved_Highways</th>\n",
              "      <th>Population_Driver_licence(%)</th>\n",
              "      <th>Petrol_Consumption</th>\n",
              "    </tr>\n",
              "  </thead>\n",
              "  <tbody>\n",
              "    <tr>\n",
              "      <th>0</th>\n",
              "      <td>9.0</td>\n",
              "      <td>3571</td>\n",
              "      <td>1976</td>\n",
              "      <td>0.525</td>\n",
              "      <td>541</td>\n",
              "    </tr>\n",
              "    <tr>\n",
              "      <th>1</th>\n",
              "      <td>9.0</td>\n",
              "      <td>4092</td>\n",
              "      <td>1250</td>\n",
              "      <td>0.572</td>\n",
              "      <td>524</td>\n",
              "    </tr>\n",
              "    <tr>\n",
              "      <th>2</th>\n",
              "      <td>9.0</td>\n",
              "      <td>3865</td>\n",
              "      <td>1586</td>\n",
              "      <td>0.580</td>\n",
              "      <td>561</td>\n",
              "    </tr>\n",
              "    <tr>\n",
              "      <th>3</th>\n",
              "      <td>7.5</td>\n",
              "      <td>4870</td>\n",
              "      <td>2351</td>\n",
              "      <td>0.529</td>\n",
              "      <td>414</td>\n",
              "    </tr>\n",
              "    <tr>\n",
              "      <th>4</th>\n",
              "      <td>8.0</td>\n",
              "      <td>4399</td>\n",
              "      <td>431</td>\n",
              "      <td>0.544</td>\n",
              "      <td>410</td>\n",
              "    </tr>\n",
              "  </tbody>\n",
              "</table>\n",
              "</div>"
            ],
            "text/plain": [
              "   Petrol_tax  Average_income  ...  Population_Driver_licence(%)  Petrol_Consumption\n",
              "0         9.0            3571  ...                         0.525                 541\n",
              "1         9.0            4092  ...                         0.572                 524\n",
              "2         9.0            3865  ...                         0.580                 561\n",
              "3         7.5            4870  ...                         0.529                 414\n",
              "4         8.0            4399  ...                         0.544                 410\n",
              "\n",
              "[5 rows x 5 columns]"
            ]
          },
          "metadata": {},
          "execution_count": 14
        }
      ]
    },
    {
      "cell_type": "markdown",
      "metadata": {
        "id": "voNap_tuH7cO"
      },
      "source": [
        "**Feature Selection**"
      ]
    },
    {
      "cell_type": "code",
      "metadata": {
        "id": "77rMq22KH_M4"
      },
      "source": [
        "X = dataset.drop('Petrol_Consumption', axis=1)\n",
        "y = dataset['Petrol_Consumption']"
      ],
      "execution_count": 15,
      "outputs": []
    },
    {
      "cell_type": "markdown",
      "metadata": {
        "id": "ffRuoAdlIGTI"
      },
      "source": [
        "**Splitting Data**"
      ]
    },
    {
      "cell_type": "code",
      "metadata": {
        "id": "lKCZEUzhIHuN"
      },
      "source": [
        "from sklearn.model_selection import train_test_split \n",
        "# Split dataset into training set and test set\n",
        "X_train, X_test, y_train, y_test = train_test_split(X, y, test_size=0.3, random_state=42)"
      ],
      "execution_count": 16,
      "outputs": []
    },
    {
      "cell_type": "markdown",
      "metadata": {
        "id": "nOdiVZAuIhsx"
      },
      "source": [
        "**Training and Predictions**"
      ]
    },
    {
      "cell_type": "code",
      "metadata": {
        "id": "z_PiGD07Ii7b"
      },
      "source": [
        "from sklearn.neural_network import MLPRegressor\n",
        "model = MLPRegressor()\n",
        "model.fit(X_train, y_train)\n",
        "y_pred = model.predict(X_test)"
      ],
      "execution_count": 17,
      "outputs": []
    },
    {
      "cell_type": "markdown",
      "metadata": {
        "id": "H8QUSIumIyy_"
      },
      "source": [
        "**Evaluating the Algorithm**"
      ]
    },
    {
      "cell_type": "code",
      "metadata": {
        "colab": {
          "base_uri": "https://localhost:8080/"
        },
        "id": "Oqbt18ntI0VF",
        "outputId": "ef9308f9-4034-4331-a2a2-84e96ae8267b"
      },
      "source": [
        "from sklearn import metrics\n",
        "print('Mean Absolute Error:', metrics.mean_absolute_error(y_test, y_pred))\n",
        "print('Mean Squared Error:', metrics.mean_squared_error(y_test, y_pred))\n",
        "print('Root Mean Squared Error:', np.sqrt(metrics.mean_squared_error(y_test, y_pred)))"
      ],
      "execution_count": 18,
      "outputs": [
        {
          "output_type": "stream",
          "name": "stdout",
          "text": [
            "Mean Absolute Error: 137.7236524388707\n",
            "Mean Squared Error: 27212.003744736463\n",
            "Root Mean Squared Error: 164.96061270720494\n"
          ]
        }
      ]
    }
  ]
}